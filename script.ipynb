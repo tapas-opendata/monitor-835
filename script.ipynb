{
 "cells": [
  {
   "cell_type": "code",
   "execution_count": 6,
   "metadata": {},
   "outputs": [],
   "source": [
    "import json, requests, time, itertools\n",
    "import pandas as pd\n",
    "from tqdm import tqdm\n",
    "from dateutil.parser import parse"
   ]
  },
  {
   "cell_type": "markdown",
   "metadata": {},
   "source": [
    "##  #1 Retrive packages\n",
    "This script retrieves packages metadata from data.gov.ua and saves it locally in **packages.json**."
   ]
  },
  {
   "cell_type": "code",
   "execution_count": 7,
   "metadata": {},
   "outputs": [],
   "source": [
    "# get package identifiers, generate URLs\n",
    "package_list = requests.get(\"https://data.gov.ua/api/3/action/package_list\").json()[\"result\"]\n",
    "package_list = [\"https://data.gov.ua/api/3/action/package_show?id={}\".format(i) for i in package_list]\n",
    "\n",
    "# get packages matadata\n",
    "packages = []\n",
    "for i in tqdm(package_list):\n",
    "    r = requests.get(i).json()\n",
    "    packages.append(r)\n",
    "    time.sleep(0.25)\n",
    "\n",
    "# get result\n",
    "packages = [i[\"result\"] for i in packages if i[\"success\"] == True]\n",
    "    \n",
    "# save copy of JSON locally\n",
    "with open('../data/packages.json', 'w') as outfile:\n",
    "    json.dump(packages, outfile, ensure_ascii=False)"
   ]
  },
  {
   "cell_type": "markdown",
   "metadata": {},
   "source": [
    "## #2. Parse JSON"
   ]
  },
  {
   "cell_type": "code",
   "execution_count": 8,
   "metadata": {},
   "outputs": [],
   "source": [
    "with open('data/packages.json') as json_file:\n",
    "    packages = json.load(json_file)\n",
    "\n",
    "# sample datasets of publishers from spreadsheet\n",
    "publishers = pd.read_csv(\"https://docs.google.com/spreadsheets/d/e/2PACX-1vTqiHo39Su2M7E31zMrKrWAqCZVMlrl49_VdItmFjf2lWAelJmO8P8dcMuzc6gq9LcVgmCcXMX6z-Eg/pub?gid=1990056977&single=true&output=csv\")\n",
    "packages = [i for i in packages if i[\"organization\"][\"name\"] in list(publishers[\"organization_name\"])]\n",
    "\n",
    "# create df\n",
    "packages_df =  pd.DataFrame({\"id\": [i[\"id\"] for i in packages],\n",
    "                             \"title\": [i[\"title\"] for i in packages],\n",
    "                             \"notes\": [i[\"notes\"] for i in packages],\n",
    "                             \"purpose\": [i[\"purpose_of_collecting_information\"] for i in packages],\n",
    "                             \"license_title\": [i[\"license_title\"] if \"license_title\" in i else 'null' for i in packages],\n",
    "                             \"license_id\": [i[\"license_id\"] if \"license_id\" in i else 'null' for i in packages],\n",
    "                             \"num_resources\": [i[\"num_resources\"] if \"num_resources\" in i else 'null' for i in packages],\n",
    "                             \"tag_string\": [i[\"tag_string\"] for i in packages],\n",
    "                             \"num_tags\": [i[\"num_tags\"] if \"num_tags\" in i else 'null' for i in packages],\n",
    "                             \"metadata_created\": [parse(i[\"metadata_created\"]).date().isoformat() for i in packages],\n",
    "                             \"metadata_modified\": [parse(i[\"metadata_modified\"]).date().isoformat() for i in packages],\n",
    "                             \"organization_title\": [i[\"organization\"][\"title\"] for i in packages],\n",
    "                             \"organization_name\": [i[\"organization\"][\"name\"] for i in packages],\n",
    "                             \"maintainer\": [i[\"maintainer\"] if \"maintainer\" in i else 'null' for i in packages],\n",
    "                             \"maintainer_email\": [i[\"maintainer_email\"] if \"maintainer_email\" in i else 'null' for i in packages]\n",
    "                            })\n",
    "\n",
    "packages_df[\"url\"] = [\"https://data.gov.ua/dataset/{}\".format(i) for i in packages_df[\"id\"]]\n",
    "packages_df[\"package_title_id\"] = packages_df[\"title\"]  + \" (\" + packages_df[\"id\"] + \")\"\n",
    "\n",
    "\n",
    "packages_df.to_csv(\"data/packages_all.csv\", index=False)"
   ]
  }
 ],
 "metadata": {
  "kernelspec": {
   "display_name": "Python 3",
   "language": "python",
   "name": "python3"
  },
  "language_info": {
   "codemirror_mode": {
    "name": "ipython",
    "version": 3
   },
   "file_extension": ".py",
   "mimetype": "text/x-python",
   "name": "python",
   "nbconvert_exporter": "python",
   "pygments_lexer": "ipython3",
   "version": "3.8.5"
  }
 },
 "nbformat": 4,
 "nbformat_minor": 2
}
